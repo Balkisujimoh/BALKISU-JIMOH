{
 "cells": [
  {
   "cell_type": "markdown",
   "id": "ae4e8d0c",
   "metadata": {},
   "source": [
    "QUESTION:Research and write 20 inbuilt method on pandas and numpy with examples for each"
   ]
  },
  {
   "cell_type": "code",
   "execution_count": 1,
   "id": "24007459",
   "metadata": {},
   "outputs": [],
   "source": [
    "import numpy as np\n",
    "import pandas as pd"
   ]
  },
  {
   "cell_type": "markdown",
   "id": "ab1f2be4",
   "metadata": {},
   "source": [
    "1.ARRAY FUNCTION:an array is used to create a one-dimensional or multidimensional arrays from scratch."
   ]
  },
  {
   "cell_type": "code",
   "execution_count": 2,
   "id": "1220a753",
   "metadata": {},
   "outputs": [
    {
     "data": {
      "text/plain": [
       "array([1, 2, 3, 4, 5])"
      ]
     },
     "execution_count": 2,
     "metadata": {},
     "output_type": "execute_result"
    }
   ],
   "source": [
    "#example of array.\n",
    "my_list = [1,2,3,4,5]\n",
    "np.array(my_list)"
   ]
  },
  {
   "cell_type": "markdown",
   "id": "616fdb30",
   "metadata": {},
   "source": [
    "2.SUM FUNCTION:sums(ADDS) up array elements over a given axis"
   ]
  },
  {
   "cell_type": "code",
   "execution_count": 3,
   "id": "1c13e6f0",
   "metadata": {},
   "outputs": [
    {
     "name": "stdout",
     "output_type": "stream",
     "text": [
      "15\n"
     ]
    }
   ],
   "source": [
    "#example\n",
    "SUM = np.sum(my_list)\n",
    "print(SUM)"
   ]
  },
  {
   "cell_type": "markdown",
   "id": "9e200509",
   "metadata": {},
   "source": [
    "3.AVERAGE Function:Computes the weighted average along the specified axis"
   ]
  },
  {
   "cell_type": "code",
   "execution_count": 4,
   "id": "7969b7eb",
   "metadata": {},
   "outputs": [
    {
     "name": "stdout",
     "output_type": "stream",
     "text": [
      "3.0\n"
     ]
    }
   ],
   "source": [
    "#example\n",
    "np.average(my_list)\n",
    "print(np.average(my_list))"
   ]
  },
  {
   "cell_type": "markdown",
   "id": "e50f731a",
   "metadata": {},
   "source": [
    "4.MAX FUNCTION:Returns the maximum (highest value) of an array or maximum along an axis"
   ]
  },
  {
   "cell_type": "code",
   "execution_count": 5,
   "id": "ddc5e120",
   "metadata": {},
   "outputs": [
    {
     "name": "stdout",
     "output_type": "stream",
     "text": [
      "1005\n"
     ]
    }
   ],
   "source": [
    "#example\n",
    "values = [2,4,-1,56,90,105,1005]\n",
    "print(np.max(values))"
   ]
  },
  {
   "cell_type": "markdown",
   "id": "6f3cf40d",
   "metadata": {},
   "source": [
    "5.MIN FUNCTION:Returns the minimum(lowest value) of an array or minimum along an axis."
   ]
  },
  {
   "cell_type": "code",
   "execution_count": 6,
   "id": "a9cc9056",
   "metadata": {},
   "outputs": [
    {
     "name": "stdout",
     "output_type": "stream",
     "text": [
      "-1\n"
     ]
    }
   ],
   "source": [
    "#examle\n",
    "np.min(values)\n",
    "print(np.min(values))"
   ]
  },
  {
   "cell_type": "markdown",
   "id": "8b133ca2",
   "metadata": {},
   "source": [
    "6.APPEND FUNCTION:Append(add) values to the end of an array."
   ]
  },
  {
   "cell_type": "code",
   "execution_count": 7,
   "id": "edbf91e1",
   "metadata": {},
   "outputs": [
    {
     "name": "stdout",
     "output_type": "stream",
     "text": [
      "[   1    2    3    4    5    2    4   -1   56   90  105 1005]\n"
     ]
    }
   ],
   "source": [
    "#example\n",
    "#adding up numbers in \"my_list\" and \"values\" using append function\n",
    "x = np.array(my_list)\n",
    "w = np.append(x,(values))\n",
    "print(w)"
   ]
  },
  {
   "cell_type": "markdown",
   "id": "479e2535",
   "metadata": {},
   "source": [
    "7.SUBTRACT FUNCTION:Subtracts arguments, element-wise"
   ]
  },
  {
   "cell_type": "code",
   "execution_count": 8,
   "id": "5e287c37",
   "metadata": {},
   "outputs": [
    {
     "name": "stdout",
     "output_type": "stream",
     "text": [
      "-10\n"
     ]
    }
   ],
   "source": [
    "#example\n",
    "#subtracting 25 from the sum of values in \"my_list\"\n",
    "y = np.sum(my_list)\n",
    "z = 25\n",
    "print(np.subtract(y,z))"
   ]
  },
  {
   "cell_type": "markdown",
   "id": "0bb795bc",
   "metadata": {},
   "source": [
    "8.ARANGE FUNCTION:Returns evenly spaced values within a given interval with some step size important parameters;STEP-this is the space between values"
   ]
  },
  {
   "cell_type": "code",
   "execution_count": 9,
   "id": "a5c3ffd5",
   "metadata": {},
   "outputs": [
    {
     "name": "stdout",
     "output_type": "stream",
     "text": [
      "[0 1 2 3 4 5 6]\n"
     ]
    },
    {
     "data": {
      "text/plain": [
       "array([5, 7, 9])"
      ]
     },
     "execution_count": 9,
     "metadata": {},
     "output_type": "execute_result"
    }
   ],
   "source": [
    "#example 1.\n",
    "doc = np.arange(7)\n",
    "print(doc)\n",
    "#example 2\n",
    "np.arange(5,10,2)"
   ]
  },
  {
   "cell_type": "markdown",
   "id": "afdae7d4",
   "metadata": {},
   "source": [
    "9.SHAPE:Return the shape of an array"
   ]
  },
  {
   "cell_type": "code",
   "execution_count": 10,
   "id": "095c1bfd",
   "metadata": {},
   "outputs": [
    {
     "data": {
      "text/plain": [
       "(5, 5)"
      ]
     },
     "execution_count": 10,
     "metadata": {},
     "output_type": "execute_result"
    }
   ],
   "source": [
    "#example\n",
    "np.shape(np.eye(5))"
   ]
  },
  {
   "cell_type": "markdown",
   "id": "b6f47063",
   "metadata": {},
   "source": [
    "10.ONES FUNCTION:Returns a new array of given shape and type, filled with ones"
   ]
  },
  {
   "cell_type": "code",
   "execution_count": 11,
   "id": "2809198d",
   "metadata": {},
   "outputs": [
    {
     "name": "stdout",
     "output_type": "stream",
     "text": [
      "[[1 1 1]\n",
      " [1 1 1]\n",
      " [1 1 1]\n",
      " [1 1 1]\n",
      " [1 1 1]]\n"
     ]
    }
   ],
   "source": [
    "#Example\n",
    "line = np.ones((5,3),dtype = int)\n",
    "print(line)"
   ]
  },
  {
   "cell_type": "markdown",
   "id": "4557b709",
   "metadata": {},
   "source": [
    "11.ARRAY of ZERO:Returns a new array of given shape and type, filled with zeros important parameters are; Shape-shape of the resultant array,DTYPE-desired data type of resultant array which could be \"int\" 0r default \"float\""
   ]
  },
  {
   "cell_type": "code",
   "execution_count": 12,
   "id": "3dadb6e9",
   "metadata": {},
   "outputs": [
    {
     "data": {
      "text/plain": [
       "array([[0, 0, 0, 0, 0],\n",
       "       [0, 0, 0, 0, 0],\n",
       "       [0, 0, 0, 0, 0],\n",
       "       [0, 0, 0, 0, 0],\n",
       "       [0, 0, 0, 0, 0],\n",
       "       [0, 0, 0, 0, 0],\n",
       "       [0, 0, 0, 0, 0]])"
      ]
     },
     "execution_count": 12,
     "metadata": {},
     "output_type": "execute_result"
    }
   ],
   "source": [
    "np.zeros((7,5),dtype = int)"
   ]
  },
  {
   "cell_type": "markdown",
   "id": "7d9a72fd",
   "metadata": {},
   "source": [
    "12.LINSPACE:Creates an array with evenly spaced float numbers over a specified interval"
   ]
  },
  {
   "cell_type": "code",
   "execution_count": 13,
   "id": "cd007041",
   "metadata": {},
   "outputs": [
    {
     "data": {
      "text/plain": [
       "array([ 10.,  20.,  30.,  40.,  50.,  60.,  70.,  80.,  90., 100.])"
      ]
     },
     "execution_count": 13,
     "metadata": {},
     "output_type": "execute_result"
    }
   ],
   "source": [
    "#important parameters;START-starting index,End-last index,NUM-number of samplesto generate,default=50\n",
    "#example\n",
    "np.linspace(10,100,10)\n"
   ]
  },
  {
   "cell_type": "markdown",
   "id": "df862031",
   "metadata": {},
   "source": [
    "13.UNIFORM SAMPLES:Generates a random sample from a uniform distribution between lower and higher limit value"
   ]
  },
  {
   "cell_type": "code",
   "execution_count": 14,
   "id": "e66368e7",
   "metadata": {},
   "outputs": [
    {
     "data": {
      "text/plain": [
       "array([0.81100855, 0.66095078, 0.02357224, 0.09695013, 0.4595136 ])"
      ]
     },
     "execution_count": 14,
     "metadata": {},
     "output_type": "execute_result"
    }
   ],
   "source": [
    "#example for linsace\n",
    "np.random.uniform(size = 5)"
   ]
  },
  {
   "cell_type": "markdown",
   "id": "c5830ad4",
   "metadata": {},
   "source": [
    "14. RANDOM.RANDINT(Random.randint): this generates n random interger samples within a range"
   ]
  },
  {
   "cell_type": "code",
   "execution_count": 15,
   "id": "37c89524",
   "metadata": {},
   "outputs": [
    {
     "data": {
      "text/plain": [
       "array([9, 5, 7, 8, 9, 9, 6, 7, 8, 7])"
      ]
     },
     "execution_count": 15,
     "metadata": {},
     "output_type": "execute_result"
    }
   ],
   "source": [
    "#Random.randint example\n",
    "np.random.randint(5,10,10)"
   ]
  },
  {
   "cell_type": "markdown",
   "id": "c1659b04",
   "metadata": {},
   "source": [
    "15.MEAN FUNCTION: This is used to get the mean of the array"
   ]
  },
  {
   "cell_type": "code",
   "execution_count": 16,
   "id": "b75da629",
   "metadata": {},
   "outputs": [
    {
     "data": {
      "text/plain": [
       "7"
      ]
     },
     "execution_count": 16,
     "metadata": {},
     "output_type": "execute_result"
    }
   ],
   "source": [
    "#example using the mean operator function\n",
    "arr = np.array([10,10,10,6,4,6])\n",
    "np.mean(arr,dtype=\"int\")"
   ]
  },
  {
   "cell_type": "markdown",
   "id": "70ceefac",
   "metadata": {},
   "source": [
    "16.MEDIAN OPERATOR FUNCTION: This returns the median value of an array i.e the middle value"
   ]
  },
  {
   "cell_type": "code",
   "execution_count": 17,
   "id": "a85c3da1",
   "metadata": {},
   "outputs": [
    {
     "data": {
      "text/plain": [
       "8.0"
      ]
     },
     "execution_count": 17,
     "metadata": {},
     "output_type": "execute_result"
    }
   ],
   "source": [
    "#example\n",
    "np.median(arr)"
   ]
  },
  {
   "cell_type": "markdown",
   "id": "6b7536f0",
   "metadata": {},
   "source": [
    "17.RESHAPE:This is returns an array containing the same data with a new shape"
   ]
  },
  {
   "cell_type": "code",
   "execution_count": 18,
   "id": "1be1d9c0",
   "metadata": {},
   "outputs": [
    {
     "data": {
      "text/plain": [
       "array([[11, 13, 13],\n",
       "       [10,  8,  3],\n",
       "       [ 0,  3,  1],\n",
       "       [ 2,  4, 14]])"
      ]
     },
     "execution_count": 18,
     "metadata": {},
     "output_type": "execute_result"
    }
   ],
   "source": [
    "A = np.random.randint(15,size=(4,3))\n",
    "A"
   ]
  },
  {
   "cell_type": "code",
   "execution_count": 19,
   "id": "e617eaae",
   "metadata": {},
   "outputs": [
    {
     "data": {
      "text/plain": [
       "array([[11, 13, 13, 10],\n",
       "       [ 8,  3,  0,  3],\n",
       "       [ 1,  2,  4, 14]])"
      ]
     },
     "execution_count": 19,
     "metadata": {},
     "output_type": "execute_result"
    }
   ],
   "source": [
    "A.reshape(3,4)"
   ]
  },
  {
   "cell_type": "markdown",
   "id": "b81f8a8f",
   "metadata": {},
   "source": [
    "18.SORT FUNCTIN: This sorts the array and returns it. important parameters:Kind-sorting algorithm to use{'quicksort','mergersort','heapsoort','stable'}"
   ]
  },
  {
   "cell_type": "code",
   "execution_count": 20,
   "id": "785fc2db",
   "metadata": {},
   "outputs": [
    {
     "data": {
      "text/plain": [
       "array([ 0,  1,  1,  2,  3,  4,  4,  5,  6,  7,  9,  9, 15, 23, 34, 67])"
      ]
     },
     "execution_count": 20,
     "metadata": {},
     "output_type": "execute_result"
    }
   ],
   "source": [
    "mylist = np.array ([3,4,6,7,9,1,4,5,34,23,15,67,9,0,1,2])\n",
    "np.sort(mylist)\n"
   ]
  },
  {
   "cell_type": "markdown",
   "id": "76d28234",
   "metadata": {},
   "source": [
    "19.WHERE:This returns elements from an array where a condition satisfies"
   ]
  },
  {
   "cell_type": "code",
   "execution_count": 21,
   "id": "d6741434",
   "metadata": {},
   "outputs": [
    {
     "data": {
      "text/plain": [
       "array([[ 0,  1,  2],\n",
       "       [ 3,  4,  5],\n",
       "       [ 6,  7,  8],\n",
       "       [ 9, 10, 11]])"
      ]
     },
     "execution_count": 21,
     "metadata": {},
     "output_type": "execute_result"
    }
   ],
   "source": [
    "#important parameters;CONDITION-condition to match.if true yield x otherwise y\n",
    "b = np.arange(12).reshape(4,3)\n",
    "b"
   ]
  },
  {
   "cell_type": "code",
   "execution_count": 22,
   "id": "610d05bc",
   "metadata": {},
   "outputs": [
    {
     "data": {
      "text/plain": [
       "(array([1, 1, 2, 2, 2, 3, 3, 3], dtype=int64),\n",
       " array([1, 2, 0, 1, 2, 0, 1, 2], dtype=int64))"
      ]
     },
     "execution_count": 22,
     "metadata": {},
     "output_type": "execute_result"
    }
   ],
   "source": [
    "np.where(b>3)#get the index"
   ]
  },
  {
   "cell_type": "code",
   "execution_count": 23,
   "id": "2bc78d2e",
   "metadata": {},
   "outputs": [
    {
     "data": {
      "text/plain": [
       "array([ 4,  5,  6,  7,  8,  9, 10, 11])"
      ]
     },
     "execution_count": 23,
     "metadata": {},
     "output_type": "execute_result"
    }
   ],
   "source": [
    "b[np.where(b>3)] #get values"
   ]
  },
  {
   "cell_type": "markdown",
   "id": "7e59204c",
   "metadata": {},
   "source": [
    "20.DIFFERENCE FUNCTION:This returns all the unique elements from an array 1 that are not present in arr 2"
   ]
  },
  {
   "cell_type": "code",
   "execution_count": 24,
   "id": "ebd5eb5e",
   "metadata": {},
   "outputs": [
    {
     "data": {
      "text/plain": [
       "array([1, 2, 4, 5, 7])"
      ]
     },
     "execution_count": 24,
     "metadata": {},
     "output_type": "execute_result"
    }
   ],
   "source": [
    "arr1 = np.array([2,1,4,5,7,9])\n",
    "arr2 = np.array([8,9,10,11,6])\n",
    "np.setdiff1d(arr1,arr2)"
   ]
  },
  {
   "cell_type": "markdown",
   "id": "694389a2",
   "metadata": {},
   "source": [
    "INBUILT FUNCTIONS IN PANDAS"
   ]
  },
  {
   "cell_type": "markdown",
   "id": "6fbe7ea5",
   "metadata": {},
   "source": [
    "1.SERIES"
   ]
  },
  {
   "cell_type": "code",
   "execution_count": 25,
   "id": "0c004117",
   "metadata": {},
   "outputs": [
    {
     "data": {
      "text/plain": [
       "a    1\n",
       "b    2\n",
       "c    3\n",
       "dtype: int64"
      ]
     },
     "execution_count": 25,
     "metadata": {},
     "output_type": "execute_result"
    }
   ],
   "source": [
    "#EXAMPLE1\n",
    "d = {'a': 1, 'b': 2, 'c': 3}\n",
    "ser = pd.Series(data=d, index=['a', 'b', 'c'])\n",
    "ser"
   ]
  },
  {
   "cell_type": "code",
   "execution_count": 30,
   "id": "0a06f84e",
   "metadata": {},
   "outputs": [
    {
     "data": {
      "text/html": [
       "<div>\n",
       "<style scoped>\n",
       "    .dataframe tbody tr th:only-of-type {\n",
       "        vertical-align: middle;\n",
       "    }\n",
       "\n",
       "    .dataframe tbody tr th {\n",
       "        vertical-align: top;\n",
       "    }\n",
       "\n",
       "    .dataframe thead th {\n",
       "        text-align: right;\n",
       "    }\n",
       "</style>\n",
       "<table border=\"1\" class=\"dataframe\">\n",
       "  <thead>\n",
       "    <tr style=\"text-align: right;\">\n",
       "      <th></th>\n",
       "      <th>Name</th>\n",
       "      <th>Age</th>\n",
       "      <th>Address</th>\n",
       "    </tr>\n",
       "  </thead>\n",
       "  <tbody>\n",
       "    <tr>\n",
       "      <th>0</th>\n",
       "      <td>Jane</td>\n",
       "      <td>20</td>\n",
       "      <td>Bauchi</td>\n",
       "    </tr>\n",
       "    <tr>\n",
       "      <th>1</th>\n",
       "      <td>Angela</td>\n",
       "      <td>25</td>\n",
       "      <td>Jos</td>\n",
       "    </tr>\n",
       "    <tr>\n",
       "      <th>2</th>\n",
       "      <td>John</td>\n",
       "      <td>18</td>\n",
       "      <td>Gombe</td>\n",
       "    </tr>\n",
       "  </tbody>\n",
       "</table>\n",
       "</div>"
      ],
      "text/plain": [
       "     Name  Age Address\n",
       "0    Jane   20  Bauchi\n",
       "1  Angela   25     Jos\n",
       "2    John   18   Gombe"
      ]
     },
     "execution_count": 30,
     "metadata": {},
     "output_type": "execute_result"
    }
   ],
   "source": [
    "#CREATING A DATAFRAME\n",
    "data = {\"Name\":[\"Jane\",\"Angela\",\"John\"], \"Age\":[20,25,18], \"Address\":[\"Bauchi\",\"Jos\",\"Gombe\"]}\n",
    "df = pd.DataFrame(data)\n",
    "df"
   ]
  },
  {
   "cell_type": "markdown",
   "id": "2450579d",
   "metadata": {},
   "source": [
    "2. SUM"
   ]
  },
  {
   "cell_type": "code",
   "execution_count": 31,
   "id": "c33a24c6",
   "metadata": {},
   "outputs": [
    {
     "data": {
      "text/plain": [
       "63"
      ]
     },
     "execution_count": 31,
     "metadata": {},
     "output_type": "execute_result"
    }
   ],
   "source": [
    "#EXAMPLE,suming to get the total age in the data frame\n",
    "df[\"Age\"].sum()\n"
   ]
  },
  {
   "cell_type": "markdown",
   "id": "d570fa9c",
   "metadata": {},
   "source": [
    "3.MEAN"
   ]
  },
  {
   "cell_type": "code",
   "execution_count": 32,
   "id": "329a324d",
   "metadata": {},
   "outputs": [
    {
     "data": {
      "text/plain": [
       "21.0"
      ]
     },
     "execution_count": 32,
     "metadata": {},
     "output_type": "execute_result"
    }
   ],
   "source": [
    "#EXAMPLEcalcu;ating the mean of the ages\n",
    "df[\"Age\"].mean()"
   ]
  },
  {
   "cell_type": "markdown",
   "id": "a31e4465",
   "metadata": {},
   "source": [
    "4.MIN"
   ]
  },
  {
   "cell_type": "code",
   "execution_count": 33,
   "id": "a3da4178",
   "metadata": {},
   "outputs": [
    {
     "data": {
      "text/plain": [
       "18"
      ]
     },
     "execution_count": 33,
     "metadata": {},
     "output_type": "execute_result"
    }
   ],
   "source": [
    "#EXAMPLE_finding the minimum value from ages\n",
    "df[\"Age\"].min()"
   ]
  },
  {
   "cell_type": "markdown",
   "id": "02489d74",
   "metadata": {},
   "source": [
    "5.MAX"
   ]
  },
  {
   "cell_type": "code",
   "execution_count": 34,
   "id": "3bb8914f",
   "metadata": {},
   "outputs": [
    {
     "data": {
      "text/plain": [
       "25"
      ]
     },
     "execution_count": 34,
     "metadata": {},
     "output_type": "execute_result"
    }
   ],
   "source": [
    "#EXAMPLE_Finding the maximum age value\n",
    "df[\"Age\"].max()"
   ]
  },
  {
   "cell_type": "markdown",
   "id": "7aaaa18d",
   "metadata": {},
   "source": [
    "6.LOC:Access a group of rows and columns by label(s) or a boolean array."
   ]
  },
  {
   "cell_type": "code",
   "execution_count": 37,
   "id": "da59c6b7",
   "metadata": {},
   "outputs": [
    {
     "data": {
      "text/html": [
       "<div>\n",
       "<style scoped>\n",
       "    .dataframe tbody tr th:only-of-type {\n",
       "        vertical-align: middle;\n",
       "    }\n",
       "\n",
       "    .dataframe tbody tr th {\n",
       "        vertical-align: top;\n",
       "    }\n",
       "\n",
       "    .dataframe thead th {\n",
       "        text-align: right;\n",
       "    }\n",
       "</style>\n",
       "<table border=\"1\" class=\"dataframe\">\n",
       "  <thead>\n",
       "    <tr style=\"text-align: right;\">\n",
       "      <th></th>\n",
       "      <th>Name</th>\n",
       "      <th>Age</th>\n",
       "      <th>Address</th>\n",
       "    </tr>\n",
       "  </thead>\n",
       "  <tbody>\n",
       "    <tr>\n",
       "      <th>0</th>\n",
       "      <td>Jane</td>\n",
       "      <td>20</td>\n",
       "      <td>Bauchi</td>\n",
       "    </tr>\n",
       "    <tr>\n",
       "      <th>1</th>\n",
       "      <td>Angela</td>\n",
       "      <td>25</td>\n",
       "      <td>Jos</td>\n",
       "    </tr>\n",
       "  </tbody>\n",
       "</table>\n",
       "</div>"
      ],
      "text/plain": [
       "     Name  Age Address\n",
       "0    Jane   20  Bauchi\n",
       "1  Angela   25     Jos"
      ]
     },
     "execution_count": 37,
     "metadata": {},
     "output_type": "execute_result"
    }
   ],
   "source": [
    "#EXAMPLE\n",
    "df.loc[0:1]"
   ]
  },
  {
   "cell_type": "code",
   "execution_count": 38,
   "id": "eff8a9d7",
   "metadata": {},
   "outputs": [
    {
     "data": {
      "text/html": [
       "<div>\n",
       "<style scoped>\n",
       "    .dataframe tbody tr th:only-of-type {\n",
       "        vertical-align: middle;\n",
       "    }\n",
       "\n",
       "    .dataframe tbody tr th {\n",
       "        vertical-align: top;\n",
       "    }\n",
       "\n",
       "    .dataframe thead th {\n",
       "        text-align: right;\n",
       "    }\n",
       "</style>\n",
       "<table border=\"1\" class=\"dataframe\">\n",
       "  <thead>\n",
       "    <tr style=\"text-align: right;\">\n",
       "      <th></th>\n",
       "      <th>Name</th>\n",
       "      <th>Age</th>\n",
       "      <th>Address</th>\n",
       "    </tr>\n",
       "  </thead>\n",
       "  <tbody>\n",
       "    <tr>\n",
       "      <th>0</th>\n",
       "      <td>Jane</td>\n",
       "      <td>20</td>\n",
       "      <td>Bauchi</td>\n",
       "    </tr>\n",
       "    <tr>\n",
       "      <th>1</th>\n",
       "      <td>Angela</td>\n",
       "      <td>25</td>\n",
       "      <td>Jos</td>\n",
       "    </tr>\n",
       "    <tr>\n",
       "      <th>2</th>\n",
       "      <td>John</td>\n",
       "      <td>18</td>\n",
       "      <td>Gombe</td>\n",
       "    </tr>\n",
       "  </tbody>\n",
       "</table>\n",
       "</div>"
      ],
      "text/plain": [
       "     Name  Age Address\n",
       "0    Jane   20  Bauchi\n",
       "1  Angela   25     Jos\n",
       "2    John   18   Gombe"
      ]
     },
     "execution_count": 38,
     "metadata": {},
     "output_type": "execute_result"
    }
   ],
   "source": [
    "df.loc[0:2]"
   ]
  },
  {
   "cell_type": "markdown",
   "id": "ba78f356",
   "metadata": {},
   "source": [
    "7.iloc:\n",
    "Purely integer-location based indexing for selection by position.\n",
    "iloc is primarily integer position based (from ``0`` to\n",
    "``length-1`` of the axis), but may also be used with a boolean\n",
    "array."
   ]
  },
  {
   "cell_type": "code",
   "execution_count": 39,
   "id": "7bc50f6e",
   "metadata": {},
   "outputs": [
    {
     "data": {
      "text/html": [
       "<div>\n",
       "<style scoped>\n",
       "    .dataframe tbody tr th:only-of-type {\n",
       "        vertical-align: middle;\n",
       "    }\n",
       "\n",
       "    .dataframe tbody tr th {\n",
       "        vertical-align: top;\n",
       "    }\n",
       "\n",
       "    .dataframe thead th {\n",
       "        text-align: right;\n",
       "    }\n",
       "</style>\n",
       "<table border=\"1\" class=\"dataframe\">\n",
       "  <thead>\n",
       "    <tr style=\"text-align: right;\">\n",
       "      <th></th>\n",
       "      <th>Name</th>\n",
       "      <th>Age</th>\n",
       "      <th>Address</th>\n",
       "    </tr>\n",
       "  </thead>\n",
       "  <tbody>\n",
       "    <tr>\n",
       "      <th>0</th>\n",
       "      <td>Jane</td>\n",
       "      <td>20</td>\n",
       "      <td>Bauchi</td>\n",
       "    </tr>\n",
       "    <tr>\n",
       "      <th>1</th>\n",
       "      <td>Angela</td>\n",
       "      <td>25</td>\n",
       "      <td>Jos</td>\n",
       "    </tr>\n",
       "  </tbody>\n",
       "</table>\n",
       "</div>"
      ],
      "text/plain": [
       "     Name  Age Address\n",
       "0    Jane   20  Bauchi\n",
       "1  Angela   25     Jos"
      ]
     },
     "execution_count": 39,
     "metadata": {},
     "output_type": "execute_result"
    }
   ],
   "source": [
    "df.iloc[0:2]"
   ]
  },
  {
   "cell_type": "markdown",
   "id": "c9dfd0b9",
   "metadata": {},
   "source": [
    "8.SLICE"
   ]
  },
  {
   "cell_type": "code",
   "execution_count": 40,
   "id": "ce43e7ba",
   "metadata": {},
   "outputs": [
    {
     "data": {
      "text/plain": [
       "['Joy', 'Martha', 'Ify']"
      ]
     },
     "execution_count": 40,
     "metadata": {},
     "output_type": "execute_result"
    }
   ],
   "source": [
    "#EXAMPLES ON SLICE\n",
    "names = [\"Joy\",\"Mary\",\"Martha\",\"Balkisu\",\"Ify\"]\n",
    "names[0::2]"
   ]
  },
  {
   "cell_type": "code",
   "execution_count": 42,
   "id": "841fffeb",
   "metadata": {},
   "outputs": [
    {
     "data": {
      "text/plain": [
       "0      Jane\n",
       "1    Angela\n",
       "2      John\n",
       "Name: Name, dtype: object"
      ]
     },
     "execution_count": 42,
     "metadata": {},
     "output_type": "execute_result"
    }
   ],
   "source": [
    "df[\"Name\"][0:3]"
   ]
  },
  {
   "cell_type": "markdown",
   "id": "e1602e70",
   "metadata": {},
   "source": [
    "9.ADD:this can be used to add a new row or column to a data frame"
   ]
  },
  {
   "cell_type": "code",
   "execution_count": 46,
   "id": "abbd6056",
   "metadata": {},
   "outputs": [],
   "source": [
    "#examle_adding a new column to a data frame\n"
   ]
  },
  {
   "cell_type": "code",
   "execution_count": null,
   "id": "26f3f6cb",
   "metadata": {},
   "outputs": [],
   "source": []
  }
 ],
 "metadata": {
  "kernelspec": {
   "display_name": "Python 3 (ipykernel)",
   "language": "python",
   "name": "python3"
  },
  "language_info": {
   "codemirror_mode": {
    "name": "ipython",
    "version": 3
   },
   "file_extension": ".py",
   "mimetype": "text/x-python",
   "name": "python",
   "nbconvert_exporter": "python",
   "pygments_lexer": "ipython3",
   "version": "3.9.12"
  }
 },
 "nbformat": 4,
 "nbformat_minor": 5
}
